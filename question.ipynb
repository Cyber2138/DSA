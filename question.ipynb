{
 "cells": [
  {
   "cell_type": "markdown",
   "metadata": {},
   "source": [
    "Printing string in a specific format"
   ]
  },
  {
   "cell_type": "code",
   "execution_count": 1,
   "metadata": {},
   "outputs": [
    {
     "name": "stdout",
     "output_type": "stream",
     "text": [
      "Twinkle, twinkle, little star,\n",
      "\tHow I wonder what you are! \n",
      "\t\tUp above the world so high,   \t\t\n",
      "\t\tLike a diamond in the sky. \n",
      "Twinkle, twinkle, little star, \n",
      "\tHow I wonder what you are\n"
     ]
    }
   ],
   "source": [
    "print('''Twinkle, twinkle, little star,\n",
    "\tHow I wonder what you are! \n",
    "\t\tUp above the world so high,   \t\t\n",
    "\t\tLike a diamond in the sky. \n",
    "Twinkle, twinkle, little star, \n",
    "\tHow I wonder what you are''')"
   ]
  },
  {
   "cell_type": "markdown",
   "metadata": {},
   "source": [
    "Checking python version"
   ]
  },
  {
   "cell_type": "code",
   "execution_count": 2,
   "metadata": {},
   "outputs": [
    {
     "name": "stdout",
     "output_type": "stream",
     "text": [
      "3.12.2 (tags/v3.12.2:6abddd9, Feb  6 2024, 21:26:36) [MSC v.1937 64 bit (AMD64)]\n"
     ]
    }
   ],
   "source": [
    "import sys\n",
    "print(sys.version)"
   ]
  },
  {
   "cell_type": "markdown",
   "metadata": {},
   "source": [
    "Checking current date and time using datetime module"
   ]
  },
  {
   "cell_type": "code",
   "execution_count": 3,
   "metadata": {},
   "outputs": [
    {
     "name": "stdout",
     "output_type": "stream",
     "text": [
      "2024-04-02 09:18:05.991872\n"
     ]
    }
   ],
   "source": [
    "import datetime \n",
    "print(datetime.datetime.now())"
   ]
  },
  {
   "cell_type": "markdown",
   "metadata": {},
   "source": [
    "Finding out area of the circle"
   ]
  },
  {
   "cell_type": "code",
   "execution_count": 4,
   "metadata": {},
   "outputs": [
    {
     "name": "stdout",
     "output_type": "stream",
     "text": [
      "3.8013239000000003\n"
     ]
    }
   ],
   "source": [
    "def area_of_circle(r):\n",
    "    result = 3.14159 * (r**2)\n",
    "    print(result)\n",
    "\n",
    "area_of_circle(1.1)"
   ]
  },
  {
   "cell_type": "markdown",
   "metadata": {},
   "source": [
    "Reversing the name of the user"
   ]
  },
  {
   "cell_type": "code",
   "execution_count": 6,
   "metadata": {},
   "outputs": [
    {
     "name": "stdout",
     "output_type": "stream",
     "text": [
      "stark tony\n"
     ]
    }
   ],
   "source": [
    "def reverse_name():\n",
    "    first = input('Enter the first name: ')\n",
    "    last = input('Enter the last name: ')\n",
    "    print(last, first)\n",
    "\n",
    "\n",
    "reverse_name()"
   ]
  },
  {
   "cell_type": "markdown",
   "metadata": {},
   "source": [
    "Converting the comma sep values into list and tuple"
   ]
  },
  {
   "cell_type": "code",
   "execution_count": 10,
   "metadata": {},
   "outputs": [
    {
     "name": "stdout",
     "output_type": "stream",
     "text": [
      "list : [3, 5, 7, 23]\n",
      "tuple : (3, 5, 7, 23)\n"
     ]
    }
   ],
   "source": [
    "def list_tuple_generator(sample_value):\n",
    "    list_result = list(sample_value)\n",
    "    tuple_result = tuple(sample_value)\n",
    "    print('list :',list_result)\n",
    "    print('tuple :',tuple_result)\n",
    "    \n",
    "\n",
    "\n",
    "sample = 3, 5, 7, 23\n",
    "list_tuple_generator(sample)"
   ]
  },
  {
   "cell_type": "markdown",
   "metadata": {},
   "source": [
    "Finding out the extension of the file name"
   ]
  },
  {
   "cell_type": "code",
   "execution_count": 12,
   "metadata": {},
   "outputs": [
    {
     "name": "stdout",
     "output_type": "stream",
     "text": [
      "py\n"
     ]
    }
   ],
   "source": [
    "def splitting(value):\n",
    "    result = str(value).split('.')\n",
    "    print(result[-1])\n",
    "\n",
    "splitting('abc.py')"
   ]
  },
  {
   "cell_type": "markdown",
   "metadata": {},
   "source": [
    "Selecting the first and last element of the list"
   ]
  },
  {
   "cell_type": "code",
   "execution_count": 21,
   "metadata": {},
   "outputs": [
    {
     "name": "stdout",
     "output_type": "stream",
     "text": [
      "Red Black\n"
     ]
    }
   ],
   "source": [
    "color_list = [\"Red\",\"Green\",\"White\" ,\"Black\"]\n",
    "\n",
    "def first_last(nlist):\n",
    "    nlist = list(nlist)\n",
    "    result = nlist[0] + ' ' + nlist[-1]\n",
    "    print(result)\n",
    "\n",
    "first_last(color_list)"
   ]
  },
  {
   "cell_type": "markdown",
   "metadata": {},
   "source": [
    "Adding the values in the format n+nn+nnn"
   ]
  },
  {
   "cell_type": "code",
   "execution_count": 29,
   "metadata": {},
   "outputs": [
    {
     "name": "stdout",
     "output_type": "stream",
     "text": [
      "615\n"
     ]
    }
   ],
   "source": [
    "x = 5\n",
    "\n",
    "def string_addition(value):\n",
    "    a = ('%s' %value)\n",
    "    b = ('%s%s' %(value, value))\n",
    "    c = ('%s%s%s' %(value, value, value))\n",
    "\n",
    "    result = int(a) + int(b) + int(c)\n",
    "    print(result)\n",
    "\n",
    "string_addition(int(x))"
   ]
  },
  {
   "cell_type": "markdown",
   "metadata": {},
   "source": [
    "__Docs__ function"
   ]
  },
  {
   "cell_type": "code",
   "execution_count": 34,
   "metadata": {},
   "outputs": [
    {
     "data": {
      "text/plain": [
       "'a string that you \"don\\'t\" have to escape\\nThis\\nis a ....... multi-line\\nheredoc string --------> example'"
      ]
     },
     "execution_count": 34,
     "metadata": {},
     "output_type": "execute_result"
    }
   ],
   "source": [
    "def sample():\n",
    "    '''a string that you \"don't\" have to escape\n",
    "This\n",
    "is a ....... multi-line\n",
    "heredoc string --------> example'''\n",
    "\n",
    "sample.__doc__"
   ]
  },
  {
   "cell_type": "markdown",
   "metadata": {},
   "source": [
    "Finding the volume of there sphere"
   ]
  },
  {
   "cell_type": "code",
   "execution_count": 35,
   "metadata": {},
   "outputs": [
    {
     "name": "stdout",
     "output_type": "stream",
     "text": [
      "904.7779199999999\n"
     ]
    }
   ],
   "source": [
    "def volume_of_sphere(r):\n",
    "    result = 4/3 * 3.14159 * (r**3)\n",
    "    print(result)\n",
    "\n",
    "\n",
    "volume_of_sphere(6)"
   ]
  },
  {
   "cell_type": "markdown",
   "metadata": {},
   "source": [
    "Checking number with 17"
   ]
  },
  {
   "cell_type": "code",
   "execution_count": 45,
   "metadata": {},
   "outputs": [
    {
     "name": "stdout",
     "output_type": "stream",
     "text": [
      "10\n"
     ]
    }
   ],
   "source": [
    "# diff bet x with 17 if x>17 return (diff ** 2)\n",
    "\n",
    "x = 22\n",
    "\n",
    "def checking_with_17(x):\n",
    "    if x<17:\n",
    "        diff = x - 17\n",
    "        print(diff)\n",
    "    elif x > 17:\n",
    "        diff = x - 17\n",
    "        result = diff * 2\n",
    "        print(result)\n",
    "\n",
    "checking_with_17(x)\n"
   ]
  },
  {
   "cell_type": "markdown",
   "metadata": {},
   "source": [
    "Checking numbers are equal"
   ]
  },
  {
   "cell_type": "code",
   "execution_count": 50,
   "metadata": {},
   "outputs": [
    {
     "name": "stdout",
     "output_type": "stream",
     "text": [
      "27\n"
     ]
    }
   ],
   "source": [
    "# sum of three numbers, if equals return thrice their sum\n",
    "x = 3\n",
    "y = 3\n",
    "z = 3\n",
    "def sum_of_three_numbers(x,y,z):\n",
    "    if x==y==z:\n",
    "        sum = x + y + z\n",
    "        result = sum*3\n",
    "        print(result)\n",
    "    else:\n",
    "        sum = x + y + z\n",
    "        print(sum)\n",
    "\n",
    "\n",
    "sum_of_three_numbers(x,y,z)"
   ]
  },
  {
   "cell_type": "markdown",
   "metadata": {},
   "source": [
    "Adding \"Is\" begining of the sentence if string not contains"
   ]
  },
  {
   "cell_type": "code",
   "execution_count": 73,
   "metadata": {},
   "outputs": [
    {
     "name": "stdout",
     "output_type": "stream",
     "text": [
      "Is this is an apple\n"
     ]
    }
   ],
   "source": [
    "sample = 'this is an apple'\n",
    "\n",
    "def new_string(xstring):\n",
    "    if str(xstring).startswith(('is', 'Is')):\n",
    "        print(xstring)\n",
    "    elif not str(xstring).startswith(('is', 'Is')):\n",
    "        print('Is ' + xstring)\n",
    "    else:\n",
    "        raise ValueError('something went wrong')\n",
    "\n",
    "new_string(sample)"
   ]
  },
  {
   "cell_type": "markdown",
   "metadata": {},
   "source": [
    "Replicating the string in number of times"
   ]
  },
  {
   "cell_type": "code",
   "execution_count": 76,
   "metadata": {},
   "outputs": [
    {
     "name": "stdout",
     "output_type": "stream",
     "text": [
      ".java.java.java.java.java.java.java.java.java.java\n"
     ]
    }
   ],
   "source": [
    "def replicate(value, times):\n",
    "    result = str(value)*times\n",
    "    print(result)\n",
    "\n",
    "replicate('.java',10)"
   ]
  }
 ],
 "metadata": {
  "kernelspec": {
   "display_name": "Python 3",
   "language": "python",
   "name": "python3"
  },
  "language_info": {
   "codemirror_mode": {
    "name": "ipython",
    "version": 3
   },
   "file_extension": ".py",
   "mimetype": "text/x-python",
   "name": "python",
   "nbconvert_exporter": "python",
   "pygments_lexer": "ipython3",
   "version": "3.12.2"
  }
 },
 "nbformat": 4,
 "nbformat_minor": 2
}
