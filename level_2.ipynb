{
 "cells": [
  {
   "cell_type": "markdown",
   "metadata": {},
   "source": [
    "A company decided to give bonus of 5% to employee if his/her year of service is more than 5 years.\n",
    "Ask user for their salary and year of service and print the net bonus amount."
   ]
  },
  {
   "cell_type": "code",
   "execution_count": 66,
   "metadata": {},
   "outputs": [
    {
     "name": "stdout",
     "output_type": "stream",
     "text": [
      "Net bonus would be: 750.0\n"
     ]
    }
   ],
   "source": [
    "def salary_calculator(salary, years):\n",
    "    if years>=5:\n",
    "        bonus = (salary * .05)\n",
    "        print(f\"Net bonus would be: {bonus}\")\n",
    "    else:\n",
    "        print(\"Not eligible for bonus\")\n",
    "\n",
    "salary_calculator(15000,5)"
   ]
  },
  {
   "cell_type": "markdown",
   "metadata": {},
   "source": [
    "Take values of length and breadth of a rectangle from user and check if it is square or not."
   ]
  },
  {
   "cell_type": "code",
   "execution_count": 67,
   "metadata": {},
   "outputs": [
    {
     "name": "stdout",
     "output_type": "stream",
     "text": [
      "It is a Perfect square\n"
     ]
    }
   ],
   "source": [
    "length = 5\n",
    "breadth = 5\n",
    "\n",
    "def check_if_rectangle(length, breadth):\n",
    "    if length == breadth:\n",
    "        print(\"It is a Perfect square\")\n",
    "    else:\n",
    "        print(\"It is a rectangle\")\n",
    "\n",
    "check_if_rectangle(length, breadth)"
   ]
  },
  {
   "cell_type": "markdown",
   "metadata": {},
   "source": [
    "Take two int values from user and print greatest among them."
   ]
  },
  {
   "cell_type": "code",
   "execution_count": 68,
   "metadata": {},
   "outputs": [
    {
     "name": "stdout",
     "output_type": "stream",
     "text": [
      "The greater amongst two is 4\n"
     ]
    }
   ],
   "source": [
    "a = 4\n",
    "b = 2\n",
    "\n",
    "def greater_number(x,y):\n",
    "    if x>y:\n",
    "        print(f\"The greater amongst two is {x}\")\n",
    "    else:\n",
    "        print(f\"The greater amongst two is {y}\")\n",
    "\n",
    "\n",
    "greater_number(a,b)"
   ]
  },
  {
   "cell_type": "markdown",
   "metadata": {},
   "source": [
    "\n",
    "A shop will give discount of 10% if the cost of purchased quantity is more than 1000.\n",
    "Ask user for quantity\n",
    "Suppose, one unit will cost 100.\n",
    "Judge and print total cost for user."
   ]
  },
  {
   "cell_type": "code",
   "execution_count": 69,
   "metadata": {},
   "outputs": [
    {
     "name": "stdout",
     "output_type": "stream",
     "text": [
      "Purchase amount is: 500\n",
      "No discount as your purchases is in limit\n"
     ]
    }
   ],
   "source": [
    "quantity = 5\n",
    "cost = 100\n",
    "def discount(qty, cost):\n",
    "    purchase = qty * cost\n",
    "    if purchase >=1000:\n",
    "        result = purchase * .1\n",
    "        print(f\"Total cost will be {purchase}\")\n",
    "        print(f\"Discount will be {result}\")\n",
    "        print(f\"Net purchases {purchase - result}\")\n",
    "    else:\n",
    "        print(f'Purchase amount is: {purchase}')\n",
    "        print(\"No discount as your purchases is in limit\")\n",
    "\n",
    "discount(quantity, cost)"
   ]
  },
  {
   "cell_type": "markdown",
   "metadata": {},
   "source": [
    "A school has following rules for grading system:\n",
    "a. Below 25 - F\n",
    "b. 25 to 45 - E\n",
    "c. 45 to 50 - D\n",
    "d. 50 to 60 - C\n",
    "e. 60 to 80 - B\n",
    "f. Above 80 - A\n",
    "Ask user to enter marks and print the corresponding grade."
   ]
  },
  {
   "cell_type": "code",
   "execution_count": 70,
   "metadata": {},
   "outputs": [
    {
     "name": "stdout",
     "output_type": "stream",
     "text": [
      "D\n"
     ]
    }
   ],
   "source": [
    "marks = 50\n",
    "def grades(marks):\n",
    "    if marks < 25:\n",
    "        print(\"Fail\")\n",
    "    elif marks > 25 and marks <= 45:\n",
    "        print('E')\n",
    "    elif marks > 45 and marks <= 50:\n",
    "        print('D')\n",
    "    elif marks > 50 and marks <= 60:\n",
    "        print('C')\n",
    "    elif marks > 60 and marks <= 80:\n",
    "        print('B')\n",
    "    elif marks > 80:\n",
    "        print('A')\n",
    "\n",
    "\n",
    "\n",
    "grades(marks)"
   ]
  },
  {
   "cell_type": "markdown",
   "metadata": {},
   "source": [
    "Take input of age of 3 people by user and determine oldest and youngest among them."
   ]
  },
  {
   "cell_type": "code",
   "execution_count": 71,
   "metadata": {},
   "outputs": [
    {
     "name": "stdout",
     "output_type": "stream",
     "text": [
      "Youngest one is 5\n",
      "Oldest one is 50\n"
     ]
    }
   ],
   "source": [
    "a = 50\n",
    "b = 50\n",
    "c = 5\n",
    "\n",
    "def age(x,y,z):\n",
    "    temp = [x,y,z]\n",
    "    temp.sort()\n",
    "    if x==y==z:\n",
    "        print('All of equal')\n",
    "    else:\n",
    "        print(f\"Youngest one is {temp[0]}\")\n",
    "        print(f\"Oldest one is {temp[-1]}\")\n",
    "\n",
    "age(a,b,c)"
   ]
  },
  {
   "cell_type": "markdown",
   "metadata": {},
   "source": [
    "\n",
    "A student will not be allowed to sit in exam if his/her attendence is less than 75%.\n",
    "Take following input from user\n",
    "Number of classes held\n",
    "Number of classes attended.\n",
    "And print\n",
    "percentage of class attended\n",
    "Is student is allowed to sit in exam or not."
   ]
  },
  {
   "cell_type": "code",
   "execution_count": 72,
   "metadata": {},
   "outputs": [
    {
     "name": "stdout",
     "output_type": "stream",
     "text": [
      "Attendance of the student is 22.727272727272727\n",
      "Student is allowed to sit in exam hall\n"
     ]
    }
   ],
   "source": [
    "class_held = 22\n",
    "class_attend = 5\n",
    "medical_cause = 'y'\n",
    "def eligibility_check(class_held, class_attend, medical_cause):\n",
    "    attendance = (class_attend / class_held) * 100\n",
    "    if attendance < 75 and medical_cause == 'n':\n",
    "        print(f\"Attendance of the student is {attendance}\")\n",
    "        print(\"Student is not allowed to sit in exam hall\")\n",
    "    elif attendance < 75 and (medical_cause == 'y'):\n",
    "        print(f\"Attendance of the student is {attendance}\")\n",
    "        print(\"Student is allowed to sit in exam hall\")\n",
    "    else:\n",
    "        print(f\"Attendance of the student is {attendance}\")\n",
    "        print(\"Student is allowed to sit in exam hall\")\n",
    "\n",
    "eligibility_check(class_held, class_attend, medical_cause)"
   ]
  },
  {
   "cell_type": "markdown",
   "metadata": {},
   "source": [
    " Write a  Python program to find those numbers which are divisible by 7 and multiples of 5, between 1500 and 2700 (both included)."
   ]
  },
  {
   "cell_type": "code",
   "execution_count": 73,
   "metadata": {},
   "outputs": [
    {
     "name": "stdout",
     "output_type": "stream",
     "text": [
      "1505\n",
      "1540\n",
      "1575\n",
      "1610\n",
      "1645\n",
      "1680\n",
      "1715\n",
      "1750\n",
      "1785\n",
      "1820\n",
      "1855\n",
      "1890\n",
      "1925\n",
      "1960\n",
      "1995\n",
      "2030\n",
      "2065\n",
      "2100\n",
      "2135\n",
      "2170\n",
      "2205\n",
      "2240\n",
      "2275\n",
      "2310\n",
      "2345\n",
      "2380\n",
      "2415\n",
      "2450\n",
      "2485\n",
      "2520\n",
      "2555\n",
      "2590\n",
      "2625\n",
      "2660\n",
      "2695\n"
     ]
    }
   ],
   "source": [
    "start = 1500\n",
    "stop = 2700\n",
    "\n",
    "def cals(start, stop):\n",
    "    for i in range(1500,2700+1):\n",
    "        if i%5==0 and i%7==0:\n",
    "            print(i)\n",
    "\n",
    "cals(start, stop)"
   ]
  },
  {
   "cell_type": "markdown",
   "metadata": {},
   "source": [
    "Write a  Python program to convert temperatures to and from Celsius and Fahrenheit.\n",
    "[ Formula : c/5 = f-32/9 [ where c = temperature in celsius and f = temperature in fahrenheit ]"
   ]
  },
  {
   "cell_type": "code",
   "execution_count": 74,
   "metadata": {},
   "outputs": [
    {
     "name": "stdout",
     "output_type": "stream",
     "text": [
      "Please mention which scale of temperature you applied\n",
      " 'Celcius': c / 'Fahrenheit': f \n",
      "Fahrenheit: 500\n",
      "Celcius: 260.0\n"
     ]
    }
   ],
   "source": [
    "type = 'f'\n",
    "value = 500\n",
    "\n",
    "def temperature(type, value):\n",
    "    print('Please mention which scale of temperature you applied')\n",
    "    print(f\" 'Celcius': c / 'Fahrenheit': f \")\n",
    "    if type== 'c': \n",
    "        result = value * (9/5) + 32\n",
    "        print(f\"Celcius: {value}\")\n",
    "        print(f\"Fahrenheit: {result}\")\n",
    "    elif type== 'f':\n",
    "        result = (value - 32) * (5/9)\n",
    "        print(f\"Fahrenheit: {value}\")\n",
    "        print(f\"Celcius: {result}\")\n",
    "\n",
    "\n",
    "temperature(type,value)"
   ]
  },
  {
   "cell_type": "markdown",
   "metadata": {},
   "source": [
    "Write a  Python program to guess a number between 1 and 9.\n",
    "\n",
    "Note : User is prompted to enter a guess. If the user guesses wrong then the prompt appears again until the guess is correct, on successful guess, user will get a \"Well guessed!\" message, and the program will exit."
   ]
  },
  {
   "cell_type": "code",
   "execution_count": 75,
   "metadata": {},
   "outputs": [
    {
     "name": "stdout",
     "output_type": "stream",
     "text": [
      "guess: 5, computer: [2]\n",
      "Bad luck try another time\n"
     ]
    }
   ],
   "source": [
    "guess_number = int(input('Enter the guess number: '))\n",
    "\n",
    "def guess_function(user):\n",
    "    import numpy as np\n",
    "    com_number = np.random.randint(0,10,1)\n",
    "    if guess_number == com_number:\n",
    "        print(f\"guess: {guess_number}, computer: {com_number}\")\n",
    "        print('Well guessed!')\n",
    "    else:\n",
    "        print(f\"guess: {guess_number}, computer: {com_number}\")\n",
    "        print('Bad luck try another time')\n",
    "\n",
    "guess_function(guess_number)"
   ]
  },
  {
   "cell_type": "markdown",
   "metadata": {},
   "source": [
    " Write a  Python program to construct the following pattern, using a nested for loop.\n"
   ]
  },
  {
   "cell_type": "code",
   "execution_count": 76,
   "metadata": {},
   "outputs": [
    {
     "name": "stdout",
     "output_type": "stream",
     "text": [
      "\n",
      "* \n",
      "* * \n",
      "* * * \n",
      "* * * * \n",
      "* * * * * \n",
      "* * * * \n",
      "* * * \n",
      "* * \n",
      "* \n"
     ]
    }
   ],
   "source": [
    "user = 5\n",
    "\n",
    "def pattern(user):\n",
    "    for i in range(user+1):\n",
    "        for j in range(i):\n",
    "            print(\"*\", end = \" \")\n",
    "        print('')\n",
    "    for i in range(user-1, 0,-1):\n",
    "        for j in range(i):\n",
    "            print(\"*\", end= \" \")\n",
    "        print('')\n",
    "\n",
    "pattern(user)"
   ]
  },
  {
   "cell_type": "markdown",
   "metadata": {},
   "source": [
    "Write a  Python program that accepts a word from the user and reverses it.\n",
    "Click me to see the sample solution"
   ]
  },
  {
   "cell_type": "code",
   "execution_count": 64,
   "metadata": {},
   "outputs": [
    {
     "name": "stdout",
     "output_type": "stream",
     "text": [
      "apple\n"
     ]
    },
    {
     "data": {
      "text/plain": [
       "'elppa'"
      ]
     },
     "execution_count": 64,
     "metadata": {},
     "output_type": "execute_result"
    }
   ],
   "source": [
    "user = 'apple'\n",
    "\n",
    "def reverse_string(user):\n",
    "    print(user)\n",
    "    user = list(user)\n",
    "    # print(user)\n",
    "    rev_string = []\n",
    "    for i in range(len(user)-1,-1,-1):\n",
    "        rev_string.append(user[i])\n",
    "    return ''.join(rev_string)\n",
    "        \n",
    "\n",
    "reverse_string(user)"
   ]
  },
  {
   "cell_type": "markdown",
   "metadata": {},
   "source": [
    "Write a Python program to count the number of even and odd numbers in a series of numbers\n",
    "Sample numbers : numbers = (1, 2, 3, 4, 5, 6, 7, 8, 9)"
   ]
  },
  {
   "cell_type": "code",
   "execution_count": 72,
   "metadata": {},
   "outputs": [
    {
     "name": "stdout",
     "output_type": "stream",
     "text": [
      "even count: 4\n",
      "odd count: 5\n"
     ]
    }
   ],
   "source": [
    "numbers = [1, 2, 3, 4, 5, 6, 7, 8, 9]\n",
    "def even_odd_count(nlist):\n",
    "    nlist = list(nlist)\n",
    "    even_count = []\n",
    "    odd_count = []\n",
    "    for i in nlist:\n",
    "        if i%2==0:\n",
    "            even_count.append(i)\n",
    "        elif i%2!=0:\n",
    "            odd_count.append(i)\n",
    "\n",
    "    print(f\"even count: {len(even_count)}\")\n",
    "    print(f\"odd count: {len(odd_count)}\")\n",
    "\n",
    "\n",
    "even_odd_count(numbers)\n"
   ]
  },
  {
   "cell_type": "markdown",
   "metadata": {},
   "source": [
    "Write a  Python program that prints all the numbers from 0 to 6 except 3 and 6."
   ]
  },
  {
   "cell_type": "code",
   "execution_count": 9,
   "metadata": {},
   "outputs": [
    {
     "name": "stdout",
     "output_type": "stream",
     "text": [
      "0\n",
      "1\n",
      "2\n",
      "4\n",
      "5\n"
     ]
    }
   ],
   "source": [
    "start = 0\n",
    "stop = 6\n",
    "def run(start, stop):\n",
    "    for i in range(start, stop):\n",
    "        if i==3 or i==6:\n",
    "            continue\n",
    "        print(i)\n",
    "\n",
    "run(start, stop)"
   ]
  },
  {
   "cell_type": "markdown",
   "metadata": {},
   "source": [
    "Write a  Python program to get the Fibonacci series between 0 and 50"
   ]
  },
  {
   "cell_type": "code",
   "execution_count": 29,
   "metadata": {},
   "outputs": [
    {
     "name": "stdout",
     "output_type": "stream",
     "text": [
      "[0, 1, 1, 2, 3, 5, 8, 13, 21, 34]\n"
     ]
    }
   ],
   "source": [
    "def fibonacci_series_iterative(n):\n",
    "    if n <= 0:\n",
    "        return []\n",
    "    elif n == 1:\n",
    "        return [0]\n",
    "    \n",
    "    series = [0, 1]\n",
    "    for i in range(2, n):\n",
    "        series.append(series[-1] + series[-2])\n",
    "    return series\n",
    "\n",
    "\n",
    "print(fibonacci_series_iterative(10))"
   ]
  },
  {
   "cell_type": "markdown",
   "metadata": {},
   "source": [
    "Write a Python program that iterates the integers from 1 to 50. For multiples of three print \"Fizz\" instead of the number and for multiples of five print \"Buzz\". For numbers that are multiples of three and five, print \"FizzBuzz\"."
   ]
  },
  {
   "cell_type": "code",
   "execution_count": 37,
   "metadata": {},
   "outputs": [
    {
     "name": "stdout",
     "output_type": "stream",
     "text": [
      "Fizzbuzz\n",
      "1\n",
      "2\n",
      "fizz\n",
      "4\n",
      "Buzz\n",
      "fizz\n",
      "7\n",
      "8\n",
      "fizz\n",
      "Buzz\n",
      "11\n",
      "fizz\n",
      "13\n",
      "14\n",
      "Fizzbuzz\n",
      "16\n",
      "17\n",
      "fizz\n",
      "19\n",
      "Buzz\n",
      "fizz\n",
      "22\n",
      "23\n",
      "fizz\n",
      "Buzz\n",
      "26\n",
      "fizz\n",
      "28\n",
      "29\n",
      "Fizzbuzz\n",
      "31\n",
      "32\n",
      "fizz\n",
      "34\n",
      "Buzz\n",
      "fizz\n",
      "37\n",
      "38\n",
      "fizz\n",
      "Buzz\n",
      "41\n",
      "fizz\n",
      "43\n",
      "44\n",
      "Fizzbuzz\n",
      "46\n",
      "47\n",
      "fizz\n",
      "49\n"
     ]
    }
   ],
   "source": [
    "start = 0\n",
    "stop = 50\n",
    "def fizzbuzz(start, stop):\n",
    "    for i in range(start, stop):\n",
    "        if i%3==0 and i%5==0:\n",
    "            print('Fizzbuzz')\n",
    "        elif i%3==0:\n",
    "            print('fizz')\n",
    "        elif i%5==0:\n",
    "            print('Buzz')\n",
    "        else:\n",
    "            print(i)\n",
    "\n",
    "fizzbuzz(start, stop)"
   ]
  },
  {
   "cell_type": "markdown",
   "metadata": {},
   "source": [
    "Write a  Python program that accepts a sequence of lines (blank line to terminate) as input and prints the lines as output (all characters in lower case)."
   ]
  },
  {
   "cell_type": "code",
   "execution_count": 38,
   "metadata": {},
   "outputs": [
    {
     "name": "stdout",
     "output_type": "stream",
     "text": [
      "W3RESOURCE\n",
      "PYTHON\n"
     ]
    }
   ],
   "source": [
    "sample1 = \"w3resource\"                                                                                                    \n",
    "sample2 = \"Python\"\n",
    "def upper_lower(samples):\n",
    "    print(samples.upper())\n",
    "\n",
    "upper_lower(sample1)\n",
    "upper_lower(sample2)"
   ]
  },
  {
   "cell_type": "markdown",
   "metadata": {},
   "source": [
    " Write a Python program that accepts a string and calculates the number of digits and letters."
   ]
  },
  {
   "cell_type": "code",
   "execution_count": 68,
   "metadata": {},
   "outputs": [
    {
     "name": "stdout",
     "output_type": "stream",
     "text": [
      "letter: 8\n",
      "numbers: 2\n"
     ]
    }
   ],
   "source": [
    "sample = \"Python 3.2\"\n",
    "\n",
    "def var_int_count(sample):\n",
    "    var_counts = []\n",
    "    int_counts = []\n",
    "    for i in sample:\n",
    "        if i.isdigit():\n",
    "            int_counts.append(i)\n",
    "        else:\n",
    "            var_counts.append(i)\n",
    "\n",
    "    print(f\"letter: {len(var_counts)}\")\n",
    "    print(f\"numbers: {len(int_counts)}\")\n",
    "\n",
    "var_int_count(sample)"
   ]
  },
  {
   "cell_type": "code",
   "execution_count": 69,
   "metadata": {},
   "outputs": [
    {
     "name": "stdout",
     "output_type": "stream",
     "text": [
      "hello\n",
      "hello\n",
      "hello\n"
     ]
    }
   ],
   "source": [
    "for i in range(3):\n",
    "    print('hello')"
   ]
  }
 ],
 "metadata": {
  "kernelspec": {
   "display_name": "Python 3",
   "language": "python",
   "name": "python3"
  },
  "language_info": {
   "codemirror_mode": {
    "name": "ipython",
    "version": 3
   },
   "file_extension": ".py",
   "mimetype": "text/x-python",
   "name": "python",
   "nbconvert_exporter": "python",
   "pygments_lexer": "ipython3",
   "version": "3.12.2"
  }
 },
 "nbformat": 4,
 "nbformat_minor": 2
}
