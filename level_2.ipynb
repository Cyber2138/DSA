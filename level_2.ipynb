{
 "cells": [
  {
   "cell_type": "markdown",
   "metadata": {},
   "source": [
    "A company decided to give bonus of 5% to employee if his/her year of service is more than 5 years.\n",
    "Ask user for their salary and year of service and print the net bonus amount."
   ]
  },
  {
   "cell_type": "code",
   "execution_count": 1,
   "metadata": {},
   "outputs": [
    {
     "name": "stdout",
     "output_type": "stream",
     "text": [
      "Net bonus would be: 750.0\n"
     ]
    }
   ],
   "source": [
    "def salary_calculator(salary, years):\n",
    "    if years>=5:\n",
    "        bonus = (salary * .05)\n",
    "        print(f\"Net bonus would be: {bonus}\")\n",
    "    else:\n",
    "        print(\"Not eligible for bonus\")\n",
    "\n",
    "salary_calculator(15000,5)"
   ]
  },
  {
   "cell_type": "markdown",
   "metadata": {},
   "source": [
    "Take values of length and breadth of a rectangle from user and check if it is square or not."
   ]
  },
  {
   "cell_type": "code",
   "execution_count": 2,
   "metadata": {},
   "outputs": [
    {
     "name": "stdout",
     "output_type": "stream",
     "text": [
      "It is a Perfect square\n"
     ]
    }
   ],
   "source": [
    "length = 5\n",
    "breadth = 5\n",
    "\n",
    "def check_if_rectangle(length, breadth):\n",
    "    if length == breadth:\n",
    "        print(\"It is a Perfect square\")\n",
    "    else:\n",
    "        print(\"It is a rectangle\")\n",
    "\n",
    "check_if_rectangle(length, breadth)"
   ]
  },
  {
   "cell_type": "markdown",
   "metadata": {},
   "source": [
    "Take two int values from user and print greatest among them."
   ]
  },
  {
   "cell_type": "code",
   "execution_count": 3,
   "metadata": {},
   "outputs": [
    {
     "name": "stdout",
     "output_type": "stream",
     "text": [
      "The greater amongst two is 4\n"
     ]
    }
   ],
   "source": [
    "a = 4\n",
    "b = 2\n",
    "\n",
    "def greater_number(x,y):\n",
    "    if x>y:\n",
    "        print(f\"The greater amongst two is {x}\")\n",
    "    else:\n",
    "        print(f\"The greater amongst two is {y}\")\n",
    "\n",
    "\n",
    "greater_number(a,b)"
   ]
  },
  {
   "cell_type": "markdown",
   "metadata": {},
   "source": [
    "\n",
    "A shop will give discount of 10% if the cost of purchased quantity is more than 1000.\n",
    "Ask user for quantity\n",
    "Suppose, one unit will cost 100.\n",
    "Judge and print total cost for user."
   ]
  },
  {
   "cell_type": "code",
   "execution_count": 4,
   "metadata": {},
   "outputs": [
    {
     "name": "stdout",
     "output_type": "stream",
     "text": [
      "Purchase amount is: 500\n",
      "No discount as your purchases is in limit\n"
     ]
    }
   ],
   "source": [
    "quantity = 5\n",
    "cost = 100\n",
    "def discount(qty, cost):\n",
    "    purchase = qty * cost\n",
    "    if purchase >=1000:\n",
    "        result = purchase * .1\n",
    "        print(f\"Total cost will be {purchase}\")\n",
    "        print(f\"Discount will be {result}\")\n",
    "        print(f\"Net purchases {purchase - result}\")\n",
    "    else:\n",
    "        print(f'Purchase amount is: {purchase}')\n",
    "        print(\"No discount as your purchases is in limit\")\n",
    "\n",
    "discount(quantity, cost)"
   ]
  },
  {
   "cell_type": "markdown",
   "metadata": {},
   "source": [
    "A school has following rules for grading system:\n",
    "a. Below 25 - F\n",
    "b. 25 to 45 - E\n",
    "c. 45 to 50 - D\n",
    "d. 50 to 60 - C\n",
    "e. 60 to 80 - B\n",
    "f. Above 80 - A\n",
    "Ask user to enter marks and print the corresponding grade."
   ]
  },
  {
   "cell_type": "code",
   "execution_count": 5,
   "metadata": {},
   "outputs": [
    {
     "name": "stdout",
     "output_type": "stream",
     "text": [
      "D\n"
     ]
    }
   ],
   "source": [
    "marks = 50\n",
    "def grades(marks):\n",
    "    if marks < 25:\n",
    "        print(\"Fail\")\n",
    "    elif marks > 25 and marks <= 45:\n",
    "        print('E')\n",
    "    elif marks > 45 and marks <= 50:\n",
    "        print('D')\n",
    "    elif marks > 50 and marks <= 60:\n",
    "        print('C')\n",
    "    elif marks > 60 and marks <= 80:\n",
    "        print('B')\n",
    "    elif marks > 80:\n",
    "        print('A')\n",
    "\n",
    "\n",
    "\n",
    "grades(marks)"
   ]
  },
  {
   "cell_type": "markdown",
   "metadata": {},
   "source": [
    "Take input of age of 3 people by user and determine oldest and youngest among them."
   ]
  },
  {
   "cell_type": "code",
   "execution_count": 23,
   "metadata": {},
   "outputs": [
    {
     "name": "stdout",
     "output_type": "stream",
     "text": [
      "Youngest one is 5\n",
      "Oldest one is 50\n"
     ]
    }
   ],
   "source": [
    "a = 50\n",
    "b = 50\n",
    "c = 5\n",
    "\n",
    "def age(x,y,z):\n",
    "    temp = [x,y,z]\n",
    "    temp.sort()\n",
    "    if x==y==z:\n",
    "        print('All of equal')\n",
    "    else:\n",
    "        print(f\"Youngest one is {temp[0]}\")\n",
    "        print(f\"Oldest one is {temp[-1]}\")\n",
    "\n",
    "age(a,b,c)"
   ]
  },
  {
   "cell_type": "markdown",
   "metadata": {},
   "source": [
    "\n",
    "A student will not be allowed to sit in exam if his/her attendence is less than 75%.\n",
    "Take following input from user\n",
    "Number of classes held\n",
    "Number of classes attended.\n",
    "And print\n",
    "percentage of class attended\n",
    "Is student is allowed to sit in exam or not."
   ]
  },
  {
   "cell_type": "code",
   "execution_count": 37,
   "metadata": {},
   "outputs": [
    {
     "name": "stdout",
     "output_type": "stream",
     "text": [
      "Attendance of the student is 22.727272727272727\n",
      "Student is allowed to sit in exam hall\n"
     ]
    }
   ],
   "source": [
    "class_held = 22\n",
    "class_attend = 5\n",
    "medical_cause = 'y'\n",
    "def eligibility_check(class_held, class_attend, medical_cause):\n",
    "    attendance = (class_attend / class_held) * 100\n",
    "    if attendance < 75 and medical_cause == 'n':\n",
    "        print(f\"Attendance of the student is {attendance}\")\n",
    "        print(\"Student is not allowed to sit in exam hall\")\n",
    "    elif attendance < 75 and (medical_cause == 'y'):\n",
    "        print(f\"Attendance of the student is {attendance}\")\n",
    "        print(\"Student is allowed to sit in exam hall\")\n",
    "    else:\n",
    "        print(f\"Attendance of the student is {attendance}\")\n",
    "        print(\"Student is allowed to sit in exam hall\")\n",
    "\n",
    "eligibility_check(class_held, class_attend, medical_cause)"
   ]
  },
  {
   "cell_type": "code",
   "execution_count": null,
   "metadata": {},
   "outputs": [],
   "source": []
  }
 ],
 "metadata": {
  "kernelspec": {
   "display_name": "Python 3",
   "language": "python",
   "name": "python3"
  },
  "language_info": {
   "codemirror_mode": {
    "name": "ipython",
    "version": 3
   },
   "file_extension": ".py",
   "mimetype": "text/x-python",
   "name": "python",
   "nbconvert_exporter": "python",
   "pygments_lexer": "ipython3",
   "version": "3.12.2"
  }
 },
 "nbformat": 4,
 "nbformat_minor": 2
}
